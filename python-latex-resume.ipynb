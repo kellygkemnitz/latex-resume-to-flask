{
 "cells": [
  {
   "cell_type": "code",
   "execution_count": 37,
   "id": "9d3d86fa-bd4a-436c-97f0-3c6a55ba2562",
   "metadata": {},
   "outputs": [],
   "source": [
    "templates_dir = 'templates/'\n",
    "resumes_dir = 'resumes/'"
   ]
  },
  {
   "cell_type": "code",
   "execution_count": 38,
   "id": "29e28b9d-2a2a-4267-bde7-46bfd85cfda1",
   "metadata": {},
   "outputs": [],
   "source": [
    "file = os.path.join(templates_dir, 'it_analyst.tex')"
   ]
  },
  {
   "cell_type": "code",
   "execution_count": 41,
   "id": "8e360df9-de24-4642-a2b8-667da721b593",
   "metadata": {},
   "outputs": [],
   "source": [
    "# Create a PDFLaTeX instance from the .tex file\n",
    "pdfl = PDFLaTeX.from_texfile(file)\n",
    "pdfl.set_output_directory(resumes_dir)"
   ]
  },
  {
   "cell_type": "code",
   "execution_count": 42,
   "id": "52f87b02-7db3-41f7-91c4-9b203d5df01c",
   "metadata": {},
   "outputs": [],
   "source": [
    "# Generate the PDF\n",
    "pdf, log, completed_process = pdfl.create_pdf(keep_pdf_file=True, keep_log_file=False)"
   ]
  },
  {
   "cell_type": "code",
   "execution_count": null,
   "id": "c1133a69-e967-4b6e-975a-bdbe617159a1",
   "metadata": {},
   "outputs": [],
   "source": []
  }
 ],
 "metadata": {
  "kernelspec": {
   "display_name": "Python 3 (ipykernel)",
   "language": "python",
   "name": "python3"
  },
  "language_info": {
   "codemirror_mode": {
    "name": "ipython",
    "version": 3
   },
   "file_extension": ".py",
   "mimetype": "text/x-python",
   "name": "python",
   "nbconvert_exporter": "python",
   "pygments_lexer": "ipython3",
   "version": "3.10.12"
  }
 },
 "nbformat": 4,
 "nbformat_minor": 5
}
